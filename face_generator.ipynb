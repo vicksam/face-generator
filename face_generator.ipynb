{
 "cells": [
  {
   "cell_type": "markdown",
   "metadata": {},
   "source": [
    "# Face Generator"
   ]
  },
  {
   "cell_type": "markdown",
   "metadata": {},
   "source": [
    "## Project\n",
    "\n",
    "Imagine that you worked for a movie producer and your job was to design characters for a next movie. Based on the script, you can probably imagine personality and style of each person. The only thing that left to do is to draw them. This step is probably the hardest and it takes a lot of sketches to finally come up with a good one.\n",
    "\n",
    "But what if the computer drew new faces for you and you only needed to select the perfect one. You probably agree with me that it would be much easier than sketching. Well... I am going to make your and other character designers' lifes easier by building such a generator!"
   ]
  },
  {
   "cell_type": "markdown",
   "metadata": {},
   "source": [
    "## Outline\n",
    "\n",
    "I start with training a discriminator whose job is to distinguish between real images, coming from a training set, and fake ones coming out of the generator. When it learns how to recognize a fake image, I start to train the generator. It slowly learns to produce images of higher quality. It knows that it moves in a right direction, when more of its images are classified as real by the discriminator. This is basically how you train a GAN. At the end, you only keep the generator.\n",
    "\n",
    "I follow this framework and train the discriminator using a dataset of face images. This way, it learns to recognize genuine profile pictures. From this point, generator will try its best to produce an image that would pass as a real one. So it has no choice but to learn how to create a realistic face image."
   ]
  }
 ],
 "metadata": {
  "kernelspec": {
   "display_name": "Python 3.7.7 64-bit ('pytorch_env': conda)",
   "language": "python",
   "name": "python37764bitpytorchenvconda85ef0111a8ff4a73a0db5833bf0fd60c"
  },
  "language_info": {
   "codemirror_mode": {
    "name": "ipython",
    "version": 3
   },
   "file_extension": ".py",
   "mimetype": "text/x-python",
   "name": "python",
   "nbconvert_exporter": "python",
   "pygments_lexer": "ipython3",
   "version": "3.7.7"
  }
 },
 "nbformat": 4,
 "nbformat_minor": 4
}
